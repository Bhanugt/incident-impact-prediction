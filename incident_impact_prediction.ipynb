{
  "cells": [
    {
      "cell_type": "markdown",
      "metadata": {
        "id": "view-in-github",
        "colab_type": "text"
      },
      "source": [
        "<a href=\"https://colab.research.google.com/github/Bhanugt/incident-impact-prediction/blob/main/incident_impact_prediction.ipynb\" target=\"_parent\"><img src=\"https://colab.research.google.com/assets/colab-badge.svg\" alt=\"Open In Colab\"/></a>"
      ]
    },
    {
      "cell_type": "code",
      "execution_count": null,
      "metadata": {
        "colab": {
          "background_save": true
        },
        "id": "9HivuJNX_JrO",
        "outputId": "29fdcf0f-a764-48f9-8c6c-189807e2ef58"
      },
      "outputs": [
        {
          "name": "stdout",
          "output_type": "stream",
          "text": [
            "✅ Best Model Parameters: {'criterion': 'gini', 'max_depth': 15, 'min_samples_leaf': 1, 'min_samples_split': 10}\n",
            "✅ Model Performance Metrics:\n",
            "Accuracy: 0.3313\n",
            "Precision: 0.3312\n",
            "Recall: 0.3313\n",
            "F1-Score: 0.3305\n",
            "F2-Score: 0.3308\n",
            "\n",
            "Classification Report:\n",
            "               precision    recall  f1-score   support\n",
            "\n",
            "           0       0.33      0.29      0.31      6649\n",
            "           1       0.34      0.33      0.33      6779\n",
            "           2       0.33      0.37      0.35      6642\n",
            "\n",
            "    accuracy                           0.33     20070\n",
            "   macro avg       0.33      0.33      0.33     20070\n",
            "weighted avg       0.33      0.33      0.33     20070\n",
            "\n",
            "\n",
            "✅ Cross-Validation Results:\n",
            "CV Scores: [0.33129048 0.32919781 0.33761834 0.32939711 0.33597409]\n",
            "Average CV Accuracy: 0.3326955655206777\n"
          ]
        }
      ],
      "source": [
        "import pandas as pd\n",
        "import numpy as np\n",
        "from sklearn.model_selection import train_test_split, cross_val_score, KFold, GridSearchCV\n",
        "from sklearn.tree import DecisionTreeClassifier\n",
        "from sklearn.preprocessing import LabelEncoder\n",
        "from sklearn.metrics import accuracy_score, precision_score, recall_score, f1_score, fbeta_score, classification_report\n",
        "\n",
        "# 🔹 Load dataset\n",
        "df = pd.read_csv(\"/content/sample_data/Incident_Event_Log.csv\")  # Ensure correct filename\n",
        "\n",
        "# 🔹 Handle Missing Values\n",
        "df.fillna(df.mode().iloc[0], inplace=True)  # Fill missing values with mode\n",
        "\n",
        "# 🔹 Encode categorical variables\n",
        "categorical_cols = df.select_dtypes(include=['object']).columns.tolist()\n",
        "label_encoders = {}\n",
        "for col in categorical_cols:\n",
        "    le = LabelEncoder()\n",
        "    df[col] = le.fit_transform(df[col])\n",
        "    label_encoders[col] = le  # Save encoders for later use\n",
        "\n",
        "# 🔹 Define Features (X) and Target (y)\n",
        "target_col = \"impact\"  # Change if needed\n",
        "X = df.drop(columns=[target_col])\n",
        "y = df[target_col]\n",
        "\n",
        "# 🔹 Split Data\n",
        "X_train, X_test, y_train, y_test = train_test_split(X, y, test_size=0.2, random_state=42)\n",
        "\n",
        "# 🔹 Hyperparameter Tuning using GridSearchCV\n",
        "param_grid = {\n",
        "    'max_depth': [5, 10, 15, 20, None],\n",
        "    'min_samples_split': [2, 5, 10],\n",
        "    'min_samples_leaf': [1, 2, 4],\n",
        "    'criterion': ['gini', 'entropy']\n",
        "}\n",
        "\n",
        "grid_search = GridSearchCV(DecisionTreeClassifier(random_state=42), param_grid, cv=5, scoring='accuracy', n_jobs=-1)\n",
        "grid_search.fit(X_train, y_train)\n",
        "\n",
        "# 🔹 Best Model\n",
        "best_model = grid_search.best_estimator_\n",
        "print(f\"✅ Best Model Parameters: {grid_search.best_params_}\")\n",
        "\n",
        "# 🔹 Train Final Model on Full Data\n",
        "best_model.fit(X_train, y_train)\n",
        "\n",
        "# 🔹 Predict on Test Data\n",
        "y_pred = best_model.predict(X_test)\n",
        "\n",
        "# 🔹 Calculate Performance Metrics\n",
        "accuracy = accuracy_score(y_test, y_pred)\n",
        "precision = precision_score(y_test, y_pred, average='weighted')\n",
        "recall = recall_score(y_test, y_pred, average='weighted')\n",
        "f1 = f1_score(y_test, y_pred, average='weighted')\n",
        "f2 = fbeta_score(y_test, y_pred, beta=2, average='weighted')  # F2-score\n",
        "\n",
        "# 🔹 Print the Metrics\n",
        "print(\"✅ Model Performance Metrics:\")\n",
        "print(f\"Accuracy: {accuracy:.4f}\")\n",
        "print(f\"Precision: {precision:.4f}\")\n",
        "print(f\"Recall: {recall:.4f}\")\n",
        "print(f\"F1-Score: {f1:.4f}\")\n",
        "print(f\"F2-Score: {f2:.4f}\")\n",
        "print(\"\\nClassification Report:\\n\", classification_report(y_test, y_pred))\n",
        "\n",
        "# 🔹 Apply K-Fold Cross-Validation on Best Model\n",
        "kfold = KFold(n_splits=5, shuffle=True, random_state=42)\n",
        "cv_scores = cross_val_score(best_model, X, y, cv=kfold, scoring='accuracy')\n",
        "\n",
        "# 🔹 Print Cross-Validation Scores\n",
        "print(\"\\n✅ Cross-Validation Results:\")\n",
        "print(\"CV Scores:\", cv_scores)\n",
        "print(\"Average CV Accuracy:\", np.mean(cv_scores))\n"
      ]
    },
    {
      "cell_type": "code",
      "execution_count": null,
      "metadata": {
        "id": "s2on9DKv8sLV"
      },
      "outputs": [],
      "source": []
    },
    {
      "cell_type": "code",
      "execution_count": 2,
      "metadata": {
        "id": "1wkHJRiyAmeA",
        "colab": {
          "base_uri": "https://localhost:8080/"
        },
        "outputId": "e18d3544-5b92-4179-c539-0839fa076704"
      },
      "outputs": [
        {
          "output_type": "stream",
          "name": "stdout",
          "text": [
            "Writing app.py\n"
          ]
        }
      ],
      "source": [
        "%%writefile app.py\n",
        "import streamlit as st\n",
        "import pandas as pd\n",
        "import numpy as np\n",
        "from sklearn.tree import DecisionTreeClassifier\n",
        "from sklearn.preprocessing import LabelEncoder\n",
        "\n",
        "# 🔹 Load dataset for feature reference\n",
        "df = pd.read_csv(\"Incident_Event_Log.csv\")\n",
        "\n",
        "# 🔹 Encode categorical variables\n",
        "categorical_cols = df.select_dtypes(include=['object']).columns.tolist()\n",
        "label_encoders = {}\n",
        "for col in categorical_cols:\n",
        "    le = LabelEncoder()\n",
        "    df[col] = le.fit_transform(df[col])\n",
        "    label_encoders[col] = le\n",
        "\n",
        "# 🔹 Define Features (X) and Target (y)\n",
        "target_col = \"impact\"  # Change if needed\n",
        "X = df.drop(columns=[target_col])\n",
        "y = df[target_col]\n",
        "\n",
        "# 🔹 Train a new Decision Tree model\n",
        "model = DecisionTreeClassifier()\n",
        "model.fit(X, y)\n",
        "\n",
        "# 🔹 Streamlit UI\n",
        "st.title(\"Incident Impact Prediction\")\n",
        "\n",
        "# Generate input fields dynamically based on dataset columns\n",
        "input_data = {}\n",
        "for col in X.columns:\n",
        "    input_data[col] = st.number_input(f\"Enter {col}\", min_value=0, value=int(df[col].mean()))\n",
        "\n",
        "# Convert input into DataFrame\n",
        "input_df = pd.DataFrame([input_data])\n",
        "\n",
        "# Encode categorical variables\n",
        "for col in label_encoders:\n",
        "    if col in input_df:\n",
        "        input_df[col] = label_encoders[col].transform(input_df[col].astype(str))\n",
        "\n",
        "# Predict Impact\n",
        "if st.button(\"Predict Impact\"):\n",
        "    prediction = model.predict(input_df)\n",
        "    st.success(f\"Predicted Impact: {prediction[0]}\")\n"
      ]
    },
    {
      "cell_type": "code",
      "execution_count": 3,
      "metadata": {
        "id": "GoSz26XY8tgb",
        "outputId": "9609c854-6dbd-4d8b-908d-be86a57a7c3b",
        "colab": {
          "base_uri": "https://localhost:8080/",
          "height": 17
        }
      },
      "outputs": [
        {
          "output_type": "display_data",
          "data": {
            "text/plain": [
              "<IPython.core.display.Javascript object>"
            ],
            "application/javascript": [
              "\n",
              "    async function download(id, filename, size) {\n",
              "      if (!google.colab.kernel.accessAllowed) {\n",
              "        return;\n",
              "      }\n",
              "      const div = document.createElement('div');\n",
              "      const label = document.createElement('label');\n",
              "      label.textContent = `Downloading \"${filename}\": `;\n",
              "      div.appendChild(label);\n",
              "      const progress = document.createElement('progress');\n",
              "      progress.max = size;\n",
              "      div.appendChild(progress);\n",
              "      document.body.appendChild(div);\n",
              "\n",
              "      const buffers = [];\n",
              "      let downloaded = 0;\n",
              "\n",
              "      const channel = await google.colab.kernel.comms.open(id);\n",
              "      // Send a message to notify the kernel that we're ready.\n",
              "      channel.send({})\n",
              "\n",
              "      for await (const message of channel.messages) {\n",
              "        // Send a message to notify the kernel that we're ready.\n",
              "        channel.send({})\n",
              "        if (message.buffers) {\n",
              "          for (const buffer of message.buffers) {\n",
              "            buffers.push(buffer);\n",
              "            downloaded += buffer.byteLength;\n",
              "            progress.value = downloaded;\n",
              "          }\n",
              "        }\n",
              "      }\n",
              "      const blob = new Blob(buffers, {type: 'application/binary'});\n",
              "      const a = document.createElement('a');\n",
              "      a.href = window.URL.createObjectURL(blob);\n",
              "      a.download = filename;\n",
              "      div.appendChild(a);\n",
              "      a.click();\n",
              "      div.remove();\n",
              "    }\n",
              "  "
            ]
          },
          "metadata": {}
        },
        {
          "output_type": "display_data",
          "data": {
            "text/plain": [
              "<IPython.core.display.Javascript object>"
            ],
            "application/javascript": [
              "download(\"download_281ee625-82b4-45f4-81b7-84fb2a91dc35\", \"app.py\", 1354)"
            ]
          },
          "metadata": {}
        }
      ],
      "source": [
        "from google.colab import files\n",
        "files.download(\"app.py\")\n"
      ]
    }
  ],
  "metadata": {
    "colab": {
      "provenance": [],
      "authorship_tag": "ABX9TyPWC6RhCTAaFDeQvse2a6+g",
      "include_colab_link": true
    },
    "kernelspec": {
      "display_name": "Python 3",
      "name": "python3"
    },
    "language_info": {
      "name": "python"
    }
  },
  "nbformat": 4,
  "nbformat_minor": 0
}